{
  "metadata": {
    "language_info": {
      "codemirror_mode": {
        "name": "python",
        "version": 3
      },
      "file_extension": ".py",
      "mimetype": "text/x-python",
      "name": "python",
      "nbconvert_exporter": "python",
      "pygments_lexer": "ipython3",
      "version": "3.8"
    },
    "kernelspec": {
      "name": "python",
      "display_name": "Python (Pyodide)",
      "language": "python"
    }
  },
  "nbformat_minor": 4,
  "nbformat": 4,
  "cells": [
    {
      "cell_type": "code",
      "source": "import numpy, random, os\nlr = 1 # learning rate\nbias = 1 # value of bias\n\n# weights are stored in a list (one each for the two inputs, plus one for the bias)\nweights = [random.random(),random.random(),random.random()] \n\nfor i in range(3):\n    print (f\"weight[{i}] = {weights[i]}\")",
      "metadata": {
        "trusted": true
      },
      "execution_count": 1,
      "outputs": [
        {
          "name": "stdout",
          "text": "weight[0] = 0.020723823381175288\nweight[1] = 0.827754485841929\nweight[2] = 0.4644816287449961\n",
          "output_type": "stream"
        }
      ]
    },
    {
      "cell_type": "code",
      "source": "def Perceptron(input1, input2, expected_output):\n    # combination function: multiply inputs and weights\n    outputP = (input1 * weights[0]) + (input2 * weights[1]) + (bias * weights[2])\n\n    # activation function: output 1 if > 0, 0 otherwise\n    if outputP > 0:\n        outputP = 1\n    else:\n        outputP = 0\n    \n    # learning: update weights based on error\n    error = expected_output - outputP\n    weights[0] += error * input1 * lr\n    weights[1] += error * input2 * lr\n    weights[2] += error * bias * lr",
      "metadata": {
        "trusted": true
      },
      "execution_count": 2,
      "outputs": []
    },
    {
      "cell_type": "code",
      "source": "for i in range(50) :\n    Perceptron(1,1,1) # T or T\n    Perceptron(1,0,1) # T or F\n    Perceptron(0,1,1) # F or T\n    Perceptron(0,0,0) # T or F",
      "metadata": {
        "trusted": true
      },
      "execution_count": 3,
      "outputs": []
    },
    {
      "cell_type": "code",
      "source": "# Final test -- try switching the values of x and y to try (0,0) (0,1) (1,0) and (1,1)\nx = 0\ny = 0\noutputP = x*weights[0] + y*weights[1] + bias*weights[2]\nif outputP > 0 : #activation function\n    outputP = 1\nelse :\n    outputP = 0\nprint(x, \"or\", y, \"is : \", outputP)",
      "metadata": {
        "trusted": true
      },
      "execution_count": 4,
      "outputs": [
        {
          "name": "stdout",
          "text": "0 or 0 is :  0\n",
          "output_type": "stream"
        }
      ]
    },
    {
      "cell_type": "code",
      "source": "for i in range(3):\n    print (f\"weight[{i}] = {weights[i]}\")",
      "metadata": {
        "trusted": true
      },
      "execution_count": 5,
      "outputs": [
        {
          "name": "stdout",
          "text": "weight[0] = 1.0207238233811753\nweight[1] = 0.827754485841929\nweight[2] = -0.5355183712550039\n",
          "output_type": "stream"
        }
      ]
    },
    {
      "cell_type": "code",
      "source": "",
      "metadata": {},
      "execution_count": null,
      "outputs": []
    }
  ]
}