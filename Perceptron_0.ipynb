{
  "metadata": {
    "language_info": {
      "codemirror_mode": {
        "name": "python",
        "version": 3
      },
      "file_extension": ".py",
      "mimetype": "text/x-python",
      "name": "python",
      "nbconvert_exporter": "python",
      "pygments_lexer": "ipython3",
      "version": "3.8"
    },
    "kernelspec": {
      "name": "python",
      "display_name": "Python (Pyodide)",
      "language": "python"
    }
  },
  "nbformat_minor": 4,
  "nbformat": 4,
  "cells": [
    {
      "cell_type": "code",
      "source": "import numpy, random, os\nlr = 1 #learning rate\nbias = 1 #value of bias\nweights = [random.random(),random.random(),random.random()] #weights generated in a list (3 weights in total for 2 neurons and the bias)",
      "metadata": {
        "trusted": true
      },
      "execution_count": 1,
      "outputs": []
    },
    {
      "cell_type": "code",
      "source": "def Perceptron(input1, input2, output) :\n   outputP = input1*weights[0] + input2*weights[1] + bias*weights[2]\n   if outputP > 0 : #activation function (here Heaviside)\n      outputP = 1\n   else :\n      outputP = 0\n   error = output - outputP\n   weights[0] += error * input1 * lr\n   weights[1] += error * input2 * lr\n   weights[2] += error * bias * lr",
      "metadata": {
        "trusted": true
      },
      "execution_count": 2,
      "outputs": []
    },
    {
      "cell_type": "code",
      "source": "for i in range(50) :\n   Perceptron(1,1,1) # T or T\n   Perceptron(1,0,1) # T or F\n   Perceptron(0,1,1) # F or T\n   Perceptron(0,0,0) # T or F",
      "metadata": {
        "trusted": true
      },
      "execution_count": 3,
      "outputs": []
    },
    {
      "cell_type": "code",
      "source": "x = 0\ny = 0\noutputP = x*weights[0] + y*weights[1] + bias*weights[2]\nif outputP > 0 : #activation function\n   outputP = 1\nelse :\n   outputP = 0\nprint(x, \"or\", y, \"is : \", outputP)",
      "metadata": {
        "trusted": true
      },
      "execution_count": 4,
      "outputs": [
        {
          "name": "stdout",
          "text": "0 or 0 is :  0\n",
          "output_type": "stream"
        }
      ]
    },
    {
      "cell_type": "code",
      "source": "weights[0]",
      "metadata": {
        "trusted": true
      },
      "execution_count": 5,
      "outputs": [
        {
          "execution_count": 5,
          "output_type": "execute_result",
          "data": {
            "text/plain": "0.33385905024078844"
          },
          "metadata": {}
        }
      ]
    },
    {
      "cell_type": "code",
      "source": "weights[1]",
      "metadata": {
        "trusted": true
      },
      "execution_count": 6,
      "outputs": [
        {
          "execution_count": 6,
          "output_type": "execute_result",
          "data": {
            "text/plain": "0.26260414852615144"
          },
          "metadata": {}
        }
      ]
    },
    {
      "cell_type": "code",
      "source": "weights[2]",
      "metadata": {
        "trusted": true
      },
      "execution_count": 7,
      "outputs": [
        {
          "execution_count": 7,
          "output_type": "execute_result",
          "data": {
            "text/plain": "-0.16919622053214967"
          },
          "metadata": {}
        }
      ]
    },
    {
      "cell_type": "code",
      "source": "m = -(weights[0] / weights[2])\nb = -(weights[1] / weights[2])",
      "metadata": {
        "trusted": true
      },
      "execution_count": 8,
      "outputs": []
    },
    {
      "cell_type": "code",
      "source": "print(m)\nprint(b)",
      "metadata": {
        "trusted": true
      },
      "execution_count": 9,
      "outputs": [
        {
          "name": "stdout",
          "text": "1.973206311528398\n1.552068643733404\n",
          "output_type": "stream"
        }
      ]
    },
    {
      "cell_type": "code",
      "source": "",
      "metadata": {},
      "execution_count": null,
      "outputs": []
    }
  ]
}