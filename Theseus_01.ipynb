{
  "metadata": {
    "language_info": {
      "codemirror_mode": {
        "name": "python",
        "version": 3
      },
      "file_extension": ".py",
      "mimetype": "text/x-python",
      "name": "python",
      "nbconvert_exporter": "python",
      "pygments_lexer": "ipython3",
      "version": "3.8"
    },
    "kernelspec": {
      "name": "python",
      "display_name": "Python (Pyodide)",
      "language": "python"
    }
  },
  "nbformat_minor": 4,
  "nbformat": 4,
  "cells": [
    {
      "cell_type": "code",
      "source": "maze = [\n    \"##########\",\n    \"# #     E#\",\n    \"# # # ####\",\n    \"# T #    #\",\n    \"### # ## #\",\n    \"#   #    #\",\n    \"## ## # ##\",\n    \"#  #  #  #\",\n    \"##########\"\n]",
      "metadata": {
        "trusted": true
      },
      "execution_count": 1,
      "outputs": []
    },
    {
      "cell_type": "code",
      "source": "theseus = None\nescape = None\n\nfor y, row in enumerate(maze):\n    for x, char in enumerate(row):\n        if char == \"T\":\n            theseus = (x, y)\n        elif char == \"E\":\n            escape = (x, y)",
      "metadata": {
        "trusted": true
      },
      "execution_count": 2,
      "outputs": []
    },
    {
      "cell_type": "code",
      "source": "theseus",
      "metadata": {
        "trusted": true
      },
      "execution_count": 3,
      "outputs": [
        {
          "execution_count": 3,
          "output_type": "execute_result",
          "data": {
            "text/plain": "(2, 3)"
          },
          "metadata": {}
        }
      ]
    },
    {
      "cell_type": "code",
      "source": "escape",
      "metadata": {
        "trusted": true
      },
      "execution_count": 4,
      "outputs": [
        {
          "execution_count": 4,
          "output_type": "execute_result",
          "data": {
            "text/plain": "(8, 1)"
          },
          "metadata": {}
        }
      ]
    },
    {
      "cell_type": "code",
      "source": "def is_position_valid(position):\n    x, y = position\n    return 0 <= x < len(maze[0]) and 0 <= y < len(maze) and maze[y][x] != \"#\"",
      "metadata": {
        "trusted": true
      },
      "execution_count": 5,
      "outputs": []
    },
    {
      "cell_type": "code",
      "source": "def next_states(position):\n    x, y = position\n    states = []\n    \n    for dx, dy in [(1,0), (0,1), (-1, 0), (0, -1)]:\n        nx = x + dx\n        ny = y + dy\n        \n        if is_position_valid((nx, ny)): \n            states.append((nx, ny))\n    return states",
      "metadata": {
        "trusted": true
      },
      "execution_count": 6,
      "outputs": []
    },
    {
      "cell_type": "code",
      "source": "from collections import deque\n\ndef bfs(starting_state, stop_condition):\n    queue = deque([starting_state])\n    discovered = {starting_state: None}\n    \n    while len(queue) != 0:\n        current = queue.popleft()\n        \n        if stop_condition(current):\n            print(\"Solution found!\")\n            \n            path = [current]\n            while discovered[current] is not None:\n                  current = discovered[current]\n                  path.append(current)\n                  \n            for coordinate in reversed(path):\n                  print(coordinate)\n            \n            return\n        \n        for next_state in next_states(current):\n            if next_state not in discovered:\n                queue.append(next_state)\n                discovered[next_state] = current\n                  \n    print(\"No solution!\")",
      "metadata": {
        "trusted": true
      },
      "execution_count": 7,
      "outputs": []
    },
    {
      "cell_type": "code",
      "source": "bfs(theseus, lambda state: state == escape)",
      "metadata": {
        "trusted": true
      },
      "execution_count": 8,
      "outputs": [
        {
          "name": "stdout",
          "text": "Solution found!\n(2, 3)\n(3, 3)\n(3, 2)\n(3, 1)\n(4, 1)\n(5, 1)\n(6, 1)\n(7, 1)\n(8, 1)\n",
          "output_type": "stream"
        }
      ]
    },
    {
      "cell_type": "code",
      "source": "",
      "metadata": {},
      "execution_count": null,
      "outputs": []
    }
  ]
}