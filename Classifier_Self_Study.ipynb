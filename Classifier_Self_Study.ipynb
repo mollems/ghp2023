{
 "cells": [
  {
   "cell_type": "markdown",
   "id": "05d99503-b172-49d1-955c-8330098f0ae2",
   "metadata": {},
   "source": [
    "Self-study: Here's the MNIST digit data model load, train, test, and evaluate steps in a single cell. I suggest starting a new notebook and typing this (rather than copy-paste). If you make a few typos, you'll get to see what error messages look like.  :)"
   ]
  },
  {
   "cell_type": "code",
   "execution_count": 1,
   "id": "442491fe-47a5-44ae-8495-04e5cf3c1cc8",
   "metadata": {},
   "outputs": [
    {
     "name": "stdout",
     "output_type": "stream",
     "text": [
      "Epoch 1/5\n",
      "1875/1875 [==============================] - 2s 752us/step - loss: 0.2978 - accuracy: 0.9133\n",
      "Epoch 2/5\n",
      "1875/1875 [==============================] - 1s 781us/step - loss: 0.1425 - accuracy: 0.9577\n",
      "Epoch 3/5\n",
      "1875/1875 [==============================] - 1s 754us/step - loss: 0.1052 - accuracy: 0.9689\n",
      "Epoch 4/5\n",
      "1875/1875 [==============================] - 1s 763us/step - loss: 0.0854 - accuracy: 0.9736\n",
      "Epoch 5/5\n",
      "1875/1875 [==============================] - 1s 767us/step - loss: 0.0734 - accuracy: 0.9766\n",
      "313/313 [==============================] - 0s 557us/step - loss: 0.0711 - accuracy: 0.9790\n"
     ]
    },
    {
     "data": {
      "text/plain": [
       "[0.07112042605876923, 0.9789999723434448]"
      ]
     },
     "execution_count": 1,
     "metadata": {},
     "output_type": "execute_result"
    }
   ],
   "source": [
    "import tensorflow as tf\n",
    "mnist = tf.keras.datasets.mnist\n",
    "\n",
    "(x_train, y_train),(x_test, y_test) = mnist.load_data()\n",
    "x_train, x_test = x_train / 255.0, x_test / 255.0\n",
    "\n",
    "model = tf.keras.models.Sequential([\n",
    "  tf.keras.layers.Flatten(input_shape=(28, 28)),\n",
    "  tf.keras.layers.Dense(128, activation='relu'),\n",
    "  tf.keras.layers.Dropout(0.2),\n",
    "  tf.keras.layers.Dense(10, activation='softmax')\n",
    "])\n",
    "\n",
    "model.compile(optimizer='adam',\n",
    "              loss='sparse_categorical_crossentropy',\n",
    "              metrics=['accuracy'])\n",
    "\n",
    "model.fit(x_train, y_train, epochs=5)\n",
    "model.evaluate(x_test, y_test)"
   ]
  },
  {
   "cell_type": "markdown",
   "id": "183c74d3-08d7-4956-bef0-13a55e98740e",
   "metadata": {
    "tags": []
   },
   "source": [
    "Now work through the tutorial at https://www.tensorflow.org/tutorials/keras/classification at your own pace. Start a new notebook and either retype or copy-paste the cells in the order given in the tutorial. It's important to practice building a notebook up from scratch as opposed to just looking at one that's already been built, and this tutorial does an excellent job of walking through all the steps to load data, look at the data, build a model, train the model, test the model, and examine the model's predictions critically."
   ]
  },
  {
   "cell_type": "code",
   "execution_count": null,
   "id": "7f713627-6077-406d-b714-a637fb492423",
   "metadata": {},
   "outputs": [],
   "source": []
  }
 ],
 "metadata": {
  "kernelspec": {
   "display_name": "Python 3 (ipykernel)",
   "language": "python",
   "name": "python3"
  },
  "language_info": {
   "codemirror_mode": {
    "name": "ipython",
    "version": 3
   },
   "file_extension": ".py",
   "mimetype": "text/x-python",
   "name": "python",
   "nbconvert_exporter": "python",
   "pygments_lexer": "ipython3",
   "version": "3.10.11"
  }
 },
 "nbformat": 4,
 "nbformat_minor": 5
}
