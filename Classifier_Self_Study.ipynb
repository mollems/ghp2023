{
 "cells": [
  {
   "cell_type": "markdown",
   "id": "05d99503-b172-49d1-955c-8330098f0ae2",
   "metadata": {},
   "source": [
    "Self-study: Here's the MNIST digit data model load, train, test, and evaluate steps in a single cell. I suggest starting a new notebook and typing this (rather than copy-paste). If you make a few typos, you'll get to see what error messages look like.  :)"
   ]
  },
  {
   "cell_type": "code",
   "execution_count": 2,
   "id": "442491fe-47a5-44ae-8495-04e5cf3c1cc8",
   "metadata": {},
   "outputs": [
    {
     "name": "stdout",
     "output_type": "stream",
     "text": [
      "Epoch 1/5\n",
      "1875/1875 [==============================] - 3s 1ms/step - loss: 0.3015 - accuracy: 0.9121\n",
      "Epoch 2/5\n",
      "1875/1875 [==============================] - 2s 1ms/step - loss: 0.1444 - accuracy: 0.9578\n",
      "Epoch 3/5\n",
      "1875/1875 [==============================] - 2s 1ms/step - loss: 0.1089 - accuracy: 0.9670\n",
      "Epoch 4/5\n",
      "1875/1875 [==============================] - 2s 1ms/step - loss: 0.0870 - accuracy: 0.9732\n",
      "Epoch 5/5\n",
      "1875/1875 [==============================] - 2s 1ms/step - loss: 0.0756 - accuracy: 0.9771\n",
      "313/313 [==============================] - 1s 1ms/step - loss: 0.0794 - accuracy: 0.9743\n"
     ]
    },
    {
     "data": {
      "text/plain": [
       "[0.0793689712882042, 0.9743000268936157]"
      ]
     },
     "execution_count": 2,
     "metadata": {},
     "output_type": "execute_result"
    }
   ],
   "source": [
    "import tensorflow as tf\n",
    "mnist = tf.keras.datasets.mnist\n",
    "\n",
    "# Replace sm39423 in the next line with your GSU account username\n",
    "(x_train, y_train),(x_test, y_test) = mnist.load_data(path=\"C:/Users/sm39423/.keras/datasets/mnist.npz\")\n",
    "x_train, x_test = x_train / 255.0, x_test / 255.0\n",
    "\n",
    "model = tf.keras.models.Sequential([\n",
    "  tf.keras.layers.Flatten(input_shape=(28, 28)),\n",
    "  tf.keras.layers.Dense(128, activation='relu'),\n",
    "  tf.keras.layers.Dropout(0.2),\n",
    "  tf.keras.layers.Dense(10, activation='softmax')\n",
    "])\n",
    "\n",
    "model.compile(optimizer='adam',\n",
    "              loss='sparse_categorical_crossentropy',\n",
    "              metrics=['accuracy'])\n",
    "\n",
    "model.fit(x_train, y_train, epochs=5)\n",
    "model.evaluate(x_test, y_test)"
   ]
  },
  {
   "cell_type": "markdown",
   "id": "183c74d3-08d7-4956-bef0-13a55e98740e",
   "metadata": {
    "tags": []
   },
   "source": [
    "Now work through the tutorial at https://www.tensorflow.org/tutorials/keras/classification at your own pace. Start a new notebook and either retype or copy-paste the cells in the order given in the tutorial. It's important to practice building a notebook up from scratch as opposed to just looking at one that's already been built, and this tutorial does an excellent job of walking through all the steps to load data, look at the data, build a model, train the model, test the model, and examine the model's predictions critically."
   ]
  },
  {
   "cell_type": "code",
   "execution_count": null,
   "id": "7f713627-6077-406d-b714-a637fb492423",
   "metadata": {},
   "outputs": [],
   "source": []
  }
 ],
 "metadata": {
  "kernelspec": {
   "display_name": "Python 3 (ipykernel)",
   "language": "python",
   "name": "python3"
  },
  "language_info": {
   "codemirror_mode": {
    "name": "ipython",
    "version": 3
   },
   "file_extension": ".py",
   "mimetype": "text/x-python",
   "name": "python",
   "nbconvert_exporter": "python",
   "pygments_lexer": "ipython3",
   "version": "3.10.11"
  }
 },
 "nbformat": 4,
 "nbformat_minor": 5
}
